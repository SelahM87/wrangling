{
  "cells": [
    {
      "cell_type": "markdown",
      "id": "13ad028b-72b7-43ed-aa78-96fd4e518040",
      "metadata": {
        "id": "13ad028b-72b7-43ed-aa78-96fd4e518040"
      },
      "source": [
        "# Assignment: Data Wrangling\n",
        "## `! git clone https://github.com/DS3001/wrangling`\n",
        "## Do Q2, and one of Q1 or Q3."
      ]
    },
    {
      "cell_type": "markdown",
      "id": "5735a4d4-8be8-433a-a351-70eb8002e632",
      "metadata": {
        "id": "5735a4d4-8be8-433a-a351-70eb8002e632"
      },
      "source": [
        "**Q1.** Open the \"tidy_data.pdf\" document in the repo, which is a paper called Tidy Data by Hadley Wickham.\n",
        "\n",
        "  1. Read the abstract. What is this paper about?\n",
        "  2. Read the introduction. What is the \"tidy data standard\" intended to accomplish?\n",
        "  3. Read the intro to section 2. What does this sentence mean: \"Like families, tidy datasets are all alike but every messy dataset is messy in its own way.\" What does this sentence mean: \"For a given dataset, it’s usually easy to figure out what are observations and what are variables, but it is surprisingly difficult to precisely define variables and observations in general.\"\n",
        "  4. Read Section 2.2. How does Wickham define values, variables, and observations?\n",
        "  5. How is \"Tidy Data\" defined in section 2.3?\n",
        "  6. Read the intro to Section 3 and Section 3.1. What are the 5 most common problems with messy datasets? Why are the data in Table 4 messy? What is \"melting\" a dataset?\n",
        "  7. Why, specifically, is table 11 messy but table 12 tidy and \"molten\"?\n",
        "  8. Read Section 6. What is the \"chicken-and-egg\" problem with focusing on tidy data? What does Wickham hope happens in the future with further work on the subject of data wrangling?"
      ]
    },
    {
      "cell_type": "markdown",
      "id": "f391de01",
      "metadata": {},
      "source": [
        "1.This article is about making Tidy datasets easy to manipulate, model, are easy to manipulate, model, and visualizise, and have a specific structure. This framework makes it easy to tidy messy datasets because only a small set of tools are needed to deal with a wide range of un-tidy datasets. This structure also makes it easier to develop tidy tools for data analysis, tools that both input and output tidy datasets.\n",
        "\n",
        "\n",
        "2.The principles of tidy data provide a standard way to organise data values within a dataset. A standard makes initial data cleaning easier because you don’t need to start from scratch and reinvent the wheel every time. The tidy data standard has been designed to facilitate initial exploration and analysis of the data, and to simplify the development of data analysis tools that work well together.\n",
        "\n",
        "\n",
        "3. They have the same bones and structure and certain attributes are the same but they all might have different things that make them messy. Finding the observation and variables are easy in hindsight as to identify them but whether they are organized in the way to help our data analysis is complicated\n",
        "\n",
        "\n",
        "4. A dataset is a collection of values, usually either numbers (if quantitative) or strings (if qualitative). Values are organised in two ways. Every value belongs to a variable and an observation. A variable contains all values that measure the same underlying attribute (like height, temperature, duration) across units. An observation contains all values measured on the same unit (like a person, or a day, or a race) across attributes\n",
        "\n",
        "\n",
        "5.\n",
        "1. Each variable forms a column.\n",
        "2. Each observation forms a row.\n",
        "3. Each type of observational unit forms a table.\n",
        "\n",
        "\n",
        "6. most common problems are Column headers are values, not variable names.\n",
        "• Multiple variables are stored in one column.\n",
        "• Variables are stored in both rows and columns.\n",
        "• Multiple types of observational units are stored in the same table. • A single observational unit is stored in multiple tables. Data 4 is messy because the dataset isnt set up in way we can anaylize the three variables, religion, income and frequency therefore we need to melt, or stack it. In other words. The columns need to turn into rows. Melting is parameterised by a list of columns that are already variables, or colvars for short. The other columns are converted into two variables: a new variable called column that contains repeated column headings and a new variable called value that contains the concatenated data values from the previously separate columns.\n",
        "\n",
        "7. Table 12 is a Molten weather dataset. This is almost tidy, but instead of values, the element column contains names of variables. Missing values are dropped to conserve space. In the Tidy weather dataset. Each row represents the meteorological measurements for a single day. There are two measured variables, minimum (tmin) and maximum (tmax) temperature; all other variables are fixed.\n",
        "\n",
        "\n",
        "\n",
        "\n",
        "8. if tidy data is only as useful as the tools that work with it, then tidy tools will be inextricably linked to tidy data. This makes it easy to get stuck in a local maxima where independently changing data structures or data tools will not improve workflow. Breaking out of this local maxima is hard. It requires long-term concerted such as the dilema of trying to figure out which comes first the chicken or the egg. It is the idea which tidy dataset is considered tidy/clean its all based on perspective.\n"
      ]
    },
    {
      "cell_type": "markdown",
      "id": "da879ea7-8aac-48a3-b6c2-daea56d2e072",
      "metadata": {
        "id": "da879ea7-8aac-48a3-b6c2-daea56d2e072"
      },
      "source": [
        "**Q2.** This question provides some pract1. Numeric variable: For `./data/airbnb_hw.csv`, clean the `Price` variable as well as you can, and explain the choices you make. How many missing values do you end up with? (Hint: What happens to the formatting when a price goes over 999 dollars, say from 675 to 1,112?)\n",
        "2. Categorical variable: For the `./data/sharks.csv` data covered in the lecture, clean the \"Type\" variable as well as you can, and explain the choices you make.\n",
        "3. Dummy variable: For the pretrial data covered in the lecture, clean the `WhetherDefendantWasReleasedPretrial` variable as well as you can, and, in particular, replace missing values with `np.nan`.\n",
        "4. Missing values, not at random: For the pretrial data covered in the lecture, clean the `ImposedSentenceAllChargeInContactEvent` variable as well as you can, and explain the choices you make. (Hint: Look at the `SentenceTypeAllChargesAtConvictionInContactEvent` variable.)ice cleaning variables which have common problems.\n"
      ]
    },
    {
      "cell_type": "code",
      "execution_count": 2,
      "id": "79d06f11",
      "metadata": {},
      "outputs": [
        {
          "name": "stdout",
          "output_type": "stream",
          "text": [
            "<class 'pandas.core.frame.DataFrame'>\n",
            "RangeIndex: 30478 entries, 0 to 30477\n",
            "Data columns (total 13 columns):\n",
            " #   Column                      Non-Null Count  Dtype  \n",
            "---  ------                      --------------  -----  \n",
            " 0   Host Id                     30478 non-null  int64  \n",
            " 1   Host Since                  30475 non-null  object \n",
            " 2   Name                        30478 non-null  object \n",
            " 3   Neighbourhood               30478 non-null  object \n",
            " 4   Property Type               30475 non-null  object \n",
            " 5   Review Scores Rating (bin)  22155 non-null  float64\n",
            " 6   Room Type                   30478 non-null  object \n",
            " 7   Zipcode                     30344 non-null  float64\n",
            " 8   Beds                        30393 non-null  float64\n",
            " 9   Number of Records           30478 non-null  int64  \n",
            " 10  Number Of Reviews           30478 non-null  int64  \n",
            " 11  Price                       30478 non-null  object \n",
            " 12  Review Scores Rating        22155 non-null  float64\n",
            "dtypes: float64(4), int64(3), object(6)\n",
            "memory usage: 3.0+ MB\n"
          ]
        },
        {
          "data": {
            "text/html": [
              "<div>\n",
              "<style scoped>\n",
              "    .dataframe tbody tr th:only-of-type {\n",
              "        vertical-align: middle;\n",
              "    }\n",
              "\n",
              "    .dataframe tbody tr th {\n",
              "        vertical-align: top;\n",
              "    }\n",
              "\n",
              "    .dataframe thead th {\n",
              "        text-align: right;\n",
              "    }\n",
              "</style>\n",
              "<table border=\"1\" class=\"dataframe\">\n",
              "  <thead>\n",
              "    <tr style=\"text-align: right;\">\n",
              "      <th></th>\n",
              "      <th>Host Id</th>\n",
              "      <th>Host Since</th>\n",
              "      <th>Name</th>\n",
              "      <th>Neighbourhood</th>\n",
              "      <th>Property Type</th>\n",
              "      <th>Review Scores Rating (bin)</th>\n",
              "      <th>Room Type</th>\n",
              "      <th>Zipcode</th>\n",
              "      <th>Beds</th>\n",
              "      <th>Number of Records</th>\n",
              "      <th>Number Of Reviews</th>\n",
              "      <th>Price</th>\n",
              "      <th>Review Scores Rating</th>\n",
              "    </tr>\n",
              "  </thead>\n",
              "  <tbody>\n",
              "    <tr>\n",
              "      <th>0</th>\n",
              "      <td>5162530</td>\n",
              "      <td>NaN</td>\n",
              "      <td>1 Bedroom in Prime Williamsburg</td>\n",
              "      <td>Brooklyn</td>\n",
              "      <td>Apartment</td>\n",
              "      <td>NaN</td>\n",
              "      <td>Entire home/apt</td>\n",
              "      <td>11249.0</td>\n",
              "      <td>1.0</td>\n",
              "      <td>1</td>\n",
              "      <td>0</td>\n",
              "      <td>145</td>\n",
              "      <td>NaN</td>\n",
              "    </tr>\n",
              "    <tr>\n",
              "      <th>1</th>\n",
              "      <td>33134899</td>\n",
              "      <td>NaN</td>\n",
              "      <td>Sunny, Private room in Bushwick</td>\n",
              "      <td>Brooklyn</td>\n",
              "      <td>Apartment</td>\n",
              "      <td>NaN</td>\n",
              "      <td>Private room</td>\n",
              "      <td>11206.0</td>\n",
              "      <td>1.0</td>\n",
              "      <td>1</td>\n",
              "      <td>1</td>\n",
              "      <td>37</td>\n",
              "      <td>NaN</td>\n",
              "    </tr>\n",
              "    <tr>\n",
              "      <th>2</th>\n",
              "      <td>39608626</td>\n",
              "      <td>NaN</td>\n",
              "      <td>Sunny Room in Harlem</td>\n",
              "      <td>Manhattan</td>\n",
              "      <td>Apartment</td>\n",
              "      <td>NaN</td>\n",
              "      <td>Private room</td>\n",
              "      <td>10032.0</td>\n",
              "      <td>1.0</td>\n",
              "      <td>1</td>\n",
              "      <td>1</td>\n",
              "      <td>28</td>\n",
              "      <td>NaN</td>\n",
              "    </tr>\n",
              "    <tr>\n",
              "      <th>3</th>\n",
              "      <td>500</td>\n",
              "      <td>6/26/2008</td>\n",
              "      <td>Gorgeous 1 BR with Private Balcony</td>\n",
              "      <td>Manhattan</td>\n",
              "      <td>Apartment</td>\n",
              "      <td>NaN</td>\n",
              "      <td>Entire home/apt</td>\n",
              "      <td>10024.0</td>\n",
              "      <td>3.0</td>\n",
              "      <td>1</td>\n",
              "      <td>0</td>\n",
              "      <td>199</td>\n",
              "      <td>NaN</td>\n",
              "    </tr>\n",
              "    <tr>\n",
              "      <th>4</th>\n",
              "      <td>500</td>\n",
              "      <td>6/26/2008</td>\n",
              "      <td>Trendy Times Square Loft</td>\n",
              "      <td>Manhattan</td>\n",
              "      <td>Apartment</td>\n",
              "      <td>95.0</td>\n",
              "      <td>Private room</td>\n",
              "      <td>10036.0</td>\n",
              "      <td>3.0</td>\n",
              "      <td>1</td>\n",
              "      <td>39</td>\n",
              "      <td>549</td>\n",
              "      <td>96.0</td>\n",
              "    </tr>\n",
              "  </tbody>\n",
              "</table>\n",
              "</div>"
            ],
            "text/plain": [
              "    Host Id Host Since                                Name Neighbourhood   \\\n",
              "0   5162530        NaN     1 Bedroom in Prime Williamsburg       Brooklyn   \n",
              "1  33134899        NaN     Sunny, Private room in Bushwick       Brooklyn   \n",
              "2  39608626        NaN                Sunny Room in Harlem      Manhattan   \n",
              "3       500  6/26/2008  Gorgeous 1 BR with Private Balcony      Manhattan   \n",
              "4       500  6/26/2008            Trendy Times Square Loft      Manhattan   \n",
              "\n",
              "  Property Type  Review Scores Rating (bin)        Room Type  Zipcode  Beds  \\\n",
              "0     Apartment                         NaN  Entire home/apt  11249.0   1.0   \n",
              "1     Apartment                         NaN     Private room  11206.0   1.0   \n",
              "2     Apartment                         NaN     Private room  10032.0   1.0   \n",
              "3     Apartment                         NaN  Entire home/apt  10024.0   3.0   \n",
              "4     Apartment                        95.0     Private room  10036.0   3.0   \n",
              "\n",
              "   Number of Records  Number Of Reviews Price  Review Scores Rating  \n",
              "0                  1                  0   145                   NaN  \n",
              "1                  1                  1    37                   NaN  \n",
              "2                  1                  1    28                   NaN  \n",
              "3                  1                  0   199                   NaN  \n",
              "4                  1                 39   549                  96.0  "
            ]
          },
          "execution_count": 2,
          "metadata": {},
          "output_type": "execute_result"
        }
      ],
      "source": [
        "import pandas as pd\n",
        "import numpy as np\n",
        "# Load the data\n",
        "df = pd.read_csv('/Users/selahmitchell/Desktop/DS interactive app/plotly-dash/airbnb_hw.csv')\n",
        "df.info() # price is object not numeric will have to fix \n",
        "df.head()"
      ]
    },
    {
      "cell_type": "code",
      "execution_count": 3,
      "id": "32c6f581",
      "metadata": {},
      "outputs": [
        {
          "name": "stdout",
          "output_type": "stream",
          "text": [
            "0\n"
          ]
        }
      ],
      "source": [
        "price = df['Price']\n",
        "\n",
        "price = price.str.replace(',','') #remove commas\n",
        "price_values = pd.to_numeric(price, errors='coerce')\n",
        "\n",
        "missing_values_count = df['Price'].isnull().sum()\n",
        "print(missing_values_count)"
      ]
    },
    {
      "cell_type": "code",
      "execution_count": 4,
      "id": "3e597cfb",
      "metadata": {},
      "outputs": [
        {
          "name": "stdout",
          "output_type": "stream",
          "text": [
            "['Unprovoked' 'Provoked' 'Questionable' 'Watercraft' 'Unconfirmed'\n",
            " 'Unverified' 'Invalid' 'Under investigation' 'Boating' 'Sea Disaster' nan\n",
            " 'Boat' 'Boatomg']\n"
          ]
        }
      ],
      "source": [
        "shark_df = pd.read_csv('/Users/selahmitchell/Desktop/DS interactive app/plotly-dash/sharks.csv', low_memory=False)\n",
        "shark_df.columns\n",
        "print(shark_df['Type'].unique())"
      ]
    },
    {
      "cell_type": "code",
      "execution_count": 5,
      "id": "d29e0d1b",
      "metadata": {},
      "outputs": [
        {
          "name": "stdout",
          "output_type": "stream",
          "text": [
            "['Unprovoked' 'Provoked' 'Unverified' 'Watercraft']\n"
          ]
        }
      ],
      "source": [
        "\n",
        "# Cleaning the Type column so Boating all the same and the nan turn to unverified so they dont get lost or dropped in the future\n",
        "shark_df['Type'] = shark_df['Type'].replace({\n",
        "np.nan: 'Unverified',\n",
        "'Invalid': 'Unverified',\n",
        "'Boating': 'Watercraft',\n",
        "'Boatomg': 'Watercraft',\n",
        "'Boat': 'Watercraft',\n",
        "'Sea Disaster': 'Watercraft',\n",
        "'Questionable': 'Unverified',\n",
        "'Unconfirmed': 'Unverified',\n",
        "'Under investigation':'Unverified'\n",
        "})\n",
        "# put into 4 categories provoked unprovoked a watercraft of any sort and Unverified \n",
        "print(shark_df['Type'].unique())"
      ]
    },
    {
      "cell_type": "code",
      "execution_count": 6,
      "id": "040f0275",
      "metadata": {},
      "outputs": [],
      "source": [
        "url = 'http://www.vcsc.virginia.gov/pretrialdataproject/October%202017%20Cohort_Virginia%20Pretrial%20Data%20Project_Deidentified%20FINAL%20Update_10272021.csv'\n",
        "df = pd.read_csv(url,low_memory=False) # Pandas downloads and loads the .csv file for you"
      ]
    },
    {
      "cell_type": "code",
      "execution_count": 13,
      "id": "87111d96",
      "metadata": {},
      "outputs": [
        {
          "name": "stdout",
          "output_type": "stream",
          "text": [
            "(22986, 710) \n",
            "\n",
            "InternalStudyID                                                 object\n",
            "REQ_REC#                                                        object\n",
            "Defendant_Sex                                                   object\n",
            "Defendant_Race                                                  object\n",
            "Defendant_BirthYear                                             object\n",
            "                                                                 ...  \n",
            "Intertnalindicator_ReasonforExcludingFromFollowUpAnalysis        int64\n",
            "CriminalHistoryRecordsReturnedorCMSRecordsFoundforIndividual    object\n",
            "DispRecordFoundforChargesinOct2017Contact_Atleast1dispfound      int64\n",
            "CrimeCommission2021ReportClassificationofDefendants             object\n",
            "age                                                             object\n",
            "Length: 710, dtype: object \n",
            "\n",
            "Index(['REQ_REC#', 'Defendant_Sex', 'Defendant_Race', 'Defendant_BirthYear'], dtype='object') \n",
            "\n",
            "<class 'pandas.core.frame.DataFrame'>\n",
            "RangeIndex: 22986 entries, 0 to 22985\n",
            "Columns: 710 entries, InternalStudyID to age\n",
            "dtypes: int64(63), object(647)\n",
            "memory usage: 124.5+ MB\n"
          ]
        }
      ],
      "source": [
        "print(df.shape, '\\n') # List the dimensions of df\n",
        "print(df.dtypes, '\\n') # The types of the variables; `object` is a bad sign\n",
        "print(df.columns[1:5], '\\n') # First five column names\n",
        "\n",
        "df.info()"
      ]
    },
    {
      "cell_type": "code",
      "execution_count": 8,
      "id": "728ffe3d",
      "metadata": {},
      "outputs": [],
      "source": [
        "df = df.rename(columns = {'BondAmountAtInitialContact':'bond',\n",
        "                    'Defendant_IndigencyStatus':'is_poor',\n",
        "                    'CaseType_MostSerChargeinContactEvent_regardlessofFinalDisp':'case_type',\n",
        "                    'WhetherDefendantWasReleasedPretrial':'released'}) # Rename variables\n",
        "df['age'] = df['Defendant_Age'] # Creating a new variable called age without replacing Defendant_Age"
      ]
    },
    {
      "cell_type": "code",
      "execution_count": 9,
      "id": "a5b9de4f",
      "metadata": {},
      "outputs": [
        {
          "name": "stdout",
          "output_type": "stream",
          "text": [
            "[9 0 1]\n"
          ]
        },
        {
          "data": {
            "text/plain": [
              "31"
            ]
          },
          "execution_count": 9,
          "metadata": {},
          "output_type": "execute_result"
        }
      ],
      "source": [
        "print(df['released'].unique()) # 9 means NA/ unclear \n",
        "released  = df['released'].replace(9, np.nan)\n",
        "sum(released.isnull()) # 31 missing values\n"
      ]
    },
    {
      "cell_type": "code",
      "execution_count": 29,
      "id": "2c5a6df9",
      "metadata": {},
      "outputs": [
        {
          "name": "stdout",
          "output_type": "stream",
          "text": [
            "Length: [' ' '60' '12' '.985626283367556' '36' '6' '24' '5.91375770020534' '120'\n",
            " '72' '11.9917864476386' '0' '2.95687885010267' '84' '108' '300' '240'\n",
            " '180' '4' '96' '2' '54' '.328542094455852' '44' '5' '115' '132' '48'\n",
            " '258' '34' '76' '.164271047227926' '.131416837782341' '111' '9' '3'\n",
            " '1.97125256673511' '36.9856262833676' '.0657084188911704'\n",
            " '35.4928131416838' '106.492813141684' '8' '35' '18.3141683778234' '480'\n",
            " '32' '93' '234' '732' '1.16427104722793' '4.6570841889117' '21' '7'\n",
            " '4.49281314168378' '18' '600' '43.1642710472279' '179' '52' '30' '20'\n",
            " '192' '702' '14' '55' '53' '11.9055441478439' '114' '35.0061601642711'\n",
            " '68' '.657084188911704' '46.6242299794661' '102' '65' '200' '57'\n",
            " '24.3285420944559' '12.1642710472279' '117' '81.4928131416838'\n",
            " '22.4928131416838' '1980' '3.6570841889117' '56' '10' '2.79260780287474'\n",
            " '1' '47' '22' '1500' '40' '284' '11' '118' '42' '162' '156'\n",
            " '47.2956878850103' '105' '51' '246' '29' '75' '324' '360'\n",
            " '34.4804928131417' '120.328542094456' '59.9260780287474' '66'\n",
            " '59.9917864476386' '660' '51.1642710472279' '14.9568788501027'\n",
            " '3.98562628336756' '78' '228' '1.47843942505133' '62' '4.8' '86' '168'\n",
            " '23' '33' '48.0328542094456' '720' '348' '1200' '27' '49' '87' '420' '63'\n",
            " '79.9260780287474' '57.0349075975359' '49.9712525667351'\n",
            " '59.4928131416838' '17' '238.492813141684' '60.9856262833676' '126' '45'\n",
            " '158' '216' '227' '42.9568788501027' '445' '70.952772073922' '516'\n",
            " '177.82135523614' '1752' '90' '1080' '141' '4.82956878850103' '230' '31'\n",
            " '2208' '52.5133470225873' '69' '26' '33.4928131416838' '140' '131' '344'\n",
            " '219' '101' '71' '59' '58' '120.197125256674' '67' '35.4004106776181'\n",
            " '3.28542094455852' '40.1642710472279' '91' '1.7741273100616' '155'\n",
            " '34.4928131416838' '81' '92.3285420944559' '3.5482546201232' '207' '74'\n",
            " '518' '28' '8.95687885010267' '237' '404.673511293634' '18.1642710472279'\n",
            " '10.7433264887064' '551' '39' '15' '124' '43' '176' '19.4928131416838'\n",
            " '482' '129' '88' '46' '45.8542094455852' '128.628336755647'\n",
            " '136.492813141684' '108.328542094456' '50' '363.663244353183' '288' '250'\n",
            " '107' '81.0225872689938' '444' '205' '10.6570841889117' '19'\n",
            " '66.9856262833676' '38.4928131416838' '264' '276' '173' '222' '144' '294'\n",
            " '336' '431' '450' '73' '99.3285420944559' '128' '30.8069815195072'\n",
            " '31.5256673511294' '127' '202' '55.3285420944559' '89' '242'\n",
            " '1.31416837782341' '1029' '.788501026694045' '194.858316221766' '399'\n",
            " '39.6570841889117' '56.95687885' '198' '120.985626283368'\n",
            " '47.6570841889117' '148' '6.8993839835729' '65.3285420944559'\n",
            " '5.95277207392197' '.0985626283367557' '3.32854209445585'\n",
            " '3.94250513347023' '12.9856262833676' '6.98562628336756'\n",
            " '13.1498973305955' '15.1642710472279' '17.1971252566735'\n",
            " '17.9137577002053' '104' '212' '24.6570841889117' '72.6570841889117'\n",
            " '2.98562628336756' '144.985626283368' '31.9712525667351' '183'\n",
            " '4.98562628336756' '11.8213552361396' '252' '12.394250513347'\n",
            " '42.4928131416838' '10.1642710472279' '11.1642710472279'\n",
            " '5.49281314168378' '59.6632443531827' '12.3285420944559'\n",
            " '48.9856262833676' '240.985626283368' '2.6570841889117' '540'\n",
            " '2.97125256673511' '6.32854209445585' '23.6632443531828'\n",
            " '133.657084188912' '35.3285420944559' '456' '103' '1.72279260780287'\n",
            " '12.6570841889117' '11.6570841889117' '60.3285420944559'\n",
            " '3.78850102669405' '576' '2.13141683778234' '492' '14.9856262833676'\n",
            " '24.9856262833676' '61.9712525667351' '5.6570841889117' '16'\n",
            " '42.1642710472279' '.492813141683778' '138' '13.3141683778234'\n",
            " '11.8932238193018' '5.32854209445585' '95' '62.6570841889117'\n",
            " '3.08829568788501' '11.8275154004107' '1.64271047227926'\n",
            " '47.9917864476386' '4.27104722792608' '8.32854209445585'\n",
            " '3.31416837782341' '70' '77' '1.09856262833676' '48.1642710472279'\n",
            " '27.4928131416838' '6.93839835728953' '1011' '.68993839835729'\n",
            " '1.1170431211499' '1.49281314168378' '4.16427104722793'\n",
            " '1.19712525667351' '4.07392197125257' '188' '11.3285420944559'\n",
            " '.0328542094455852' '432' '11.952772073922' '36.4928131416838'\n",
            " '23.9835728952772' '9.98562628336756' '98' '36.3285420944559' '112'\n",
            " '.394250513347023' '13' '.262833675564682' '13.7987679671458'\n",
            " '5.8870636550308' '354' '5.91991786447639' '24.1642710472279'\n",
            " '62.95687885' '4.59958932238193' '123' '2.32854209445585'\n",
            " '23.9240246406571' '204' '197' '174' '16.1498973305955' '840' '440'\n",
            " '98.95687885' '17.952772073922' '63.9425051334702' '60.1314168377823'\n",
            " '12.1314168377823' '172.952772073922' '.197125256673511'\n",
            " '138.164271047228' '4.92813141683778' '.919917864476386'\n",
            " '18.9856262833676' '6.6570841889117' '2.85420944558522'\n",
            " '8.91375770020534' '146' '12.4928131416838' '.558521560574949'\n",
            " '.722792607802875' '5.82135523613963' '84.9856262833676'\n",
            " '6.16427104722793' '15.9856262833676' '64.5585215605749'\n",
            " '38.299794661191' '11.958932238193' '3.1211498973306' '126.328542094456'\n",
            " '5.16427104722793' '64' '42.6570841889117' '312' '19.9712525667351'\n",
            " '82.3285420944559' '23.9712525667351' '17.6242299794661'\n",
            " '121.971252566735' '59.6550308008214' '1.32854209445585'\n",
            " '7.97125256673511' '1.91991786447639' '.525667351129363'\n",
            " '9.32854209445585' '42.9856262833676' '41.9137577002053'\n",
            " '72.9856262833676' '12.4784394250513' '5.19096509240246' '473'\n",
            " '16.6570841889117' '109' '86.3285420944559' '41' '1.90554414784394'\n",
            " '94.1642710472279' '302' '4.39425051334702' '10.8213552361396'\n",
            " '18.3285420944559' '154' '83' '110.956878850103' '226' '96.0328542094456'\n",
            " '4.82135523613963' '30.3285420944559' '37.9712525667351'\n",
            " '50.4640657084189' '286' '99' '99.4928131416838' '2.6611909650924'\n",
            " '70.9712525667351' '13.9712525667351' '23.6570841889117'\n",
            " '.459958932238193' '132.492813141684' '283' '49.3141683778234'\n",
            " '27.9856262833676' '38' '7.6570841889117' '83.6550308008214'\n",
            " '10.9199178644764' '162.328542094456' '37' '132.328542094456'\n",
            " '35.952772073922' '165' '10.9856262833676' '20.1642710472279'\n",
            " '2.59137577002053' '175' '180.985626283368' '10.3285420944559'\n",
            " '36.1642710472279' '120.657084188912' '232' '152' '8.98562628336756'\n",
            " '167' '11.0657084188912' '11.2032854209446' '5.19712525667351'\n",
            " '3.16427104722793' '60.1642710472279' '1.18275154004107'\n",
            " '21.1642710472279' '2.19712525667351' '4.19712525667351'\n",
            " '2.62833675564682' '119.952772073922' '119.958932238193'\n",
            " '9.49281314168378' '5.25667351129363' '15.3285420944559'\n",
            " '2.82135523613963' '192.985626283368' '48.6570841889117'\n",
            " '5.95687885010267' '2.29979466119097' '960' '2.36550308008214' '116'\n",
            " '19.5133470225873' '1.6570841889117']\n",
            "Sentencetype: [9 0 1 4 2]\n"
          ]
        },
        {
          "data": {
            "text/plain": [
              "0"
            ]
          },
          "execution_count": 29,
          "metadata": {},
          "output_type": "execute_result"
        }
      ],
      "source": [
        "\n",
        "length = df['ImposedSentenceAllChargeInContactEvent']\n",
        "sentence_type = df['SentenceTypeAllChargesAtConvictionInContactEvent']\n",
        "\n",
        "\n",
        "\n",
        "# Initial inspection of unique values\n",
        "print(\"Length:\", length.unique())\n",
        "\n",
        "#Unique values in 'SentenceTypeAllChargesAtConvictionInContactEvent': [9 0 1 4 2] \n",
        "print(\"Sentencetype:\", sentence_type.unique())\n",
        "\n",
        "sum(length.isnull())"
      ]
    },
    {
      "cell_type": "code",
      "execution_count": 33,
      "id": "b9770445",
      "metadata": {},
      "outputs": [
        {
          "name": "stdout",
          "output_type": "stream",
          "text": [
            "Length missing : 9053\n",
            "Category 4 is cases where the charges were dismissed col_0                                   <class 'type'>\n",
            "ImposedSentenceAllChargeInContactEvent                \n",
            "False                                            13933\n",
            "True                                              9053\n",
            "col_0                                   <class 'type'>\n",
            "ImposedSentenceAllChargeInContactEvent                \n",
            "False                                            13933\n",
            "True                                              9053\n",
            "9053\n"
          ]
        },
        {
          "ename": "ValueError",
          "evalue": "Array conditional must be same shape as self",
          "output_type": "error",
          "traceback": [
            "\u001b[0;31m---------------------------------------------------------------------------\u001b[0m",
            "\u001b[0;31mValueError\u001b[0m                                Traceback (most recent call last)",
            "\u001b[0;32m/var/folders/q2/p4k6j1ss1qd27364rjxv2fxh0000gn/T/ipykernel_37763/499000146.py\u001b[0m in \u001b[0;36m?\u001b[0;34m()\u001b[0m\n\u001b[0;32m---> 12\u001b[0;31m \u001b[0mlength\u001b[0m \u001b[0;34m=\u001b[0m \u001b[0mpd\u001b[0m\u001b[0;34m.\u001b[0m\u001b[0mto_numeric\u001b[0m\u001b[0;34m(\u001b[0m\u001b[0mlength\u001b[0m\u001b[0;34m,\u001b[0m\u001b[0merrors\u001b[0m\u001b[0;34m=\u001b[0m\u001b[0;34m'coerce'\u001b[0m\u001b[0;34m)\u001b[0m \u001b[0;31m# Coerce to numeric\u001b[0m\u001b[0;34m\u001b[0m\u001b[0;34m\u001b[0m\u001b[0m\n\u001b[0m\u001b[1;32m     13\u001b[0m \u001b[0mprint\u001b[0m\u001b[0;34m(\u001b[0m\u001b[0;34m\"Length missing :\"\u001b[0m\u001b[0;34m,\u001b[0m \u001b[0msum\u001b[0m\u001b[0;34m(\u001b[0m\u001b[0mlength\u001b[0m\u001b[0;34m.\u001b[0m\u001b[0misnull\u001b[0m\u001b[0;34m(\u001b[0m\u001b[0;34m)\u001b[0m\u001b[0;34m)\u001b[0m\u001b[0;34m)\u001b[0m \u001b[0;31m# check how many NAs there are\u001b[0m\u001b[0;34m\u001b[0m\u001b[0;34m\u001b[0m\u001b[0m\n\u001b[1;32m     14\u001b[0m \u001b[0;34m\u001b[0m\u001b[0m\n\u001b[1;32m     15\u001b[0m \u001b[0mLength_missing\u001b[0m \u001b[0;34m=\u001b[0m \u001b[0mlength\u001b[0m\u001b[0;34m.\u001b[0m\u001b[0misnull\u001b[0m\u001b[0;34m(\u001b[0m\u001b[0;34m)\u001b[0m\u001b[0;34m\u001b[0m\u001b[0;34m\u001b[0m\u001b[0m\n",
            "\u001b[0;32m/opt/homebrew/Caskroom/miniconda/base/envs/ds4003/lib/python3.8/site-packages/pandas/core/series.py\u001b[0m in \u001b[0;36m?\u001b[0;34m(self, cond, other, inplace, axis, level)\u001b[0m\n\u001b[1;32m   6047\u001b[0m         \u001b[0minplace\u001b[0m\u001b[0;34m:\u001b[0m \u001b[0mbool\u001b[0m \u001b[0;34m=\u001b[0m \u001b[0;32mFalse\u001b[0m\u001b[0;34m,\u001b[0m\u001b[0;34m\u001b[0m\u001b[0;34m\u001b[0m\u001b[0m\n\u001b[1;32m   6048\u001b[0m         \u001b[0maxis\u001b[0m\u001b[0;34m:\u001b[0m \u001b[0mAxis\u001b[0m \u001b[0;34m|\u001b[0m \u001b[0;32mNone\u001b[0m \u001b[0;34m=\u001b[0m \u001b[0;32mNone\u001b[0m\u001b[0;34m,\u001b[0m\u001b[0;34m\u001b[0m\u001b[0;34m\u001b[0m\u001b[0m\n\u001b[1;32m   6049\u001b[0m         \u001b[0mlevel\u001b[0m\u001b[0;34m:\u001b[0m \u001b[0mLevel\u001b[0m \u001b[0;34m=\u001b[0m \u001b[0;32mNone\u001b[0m\u001b[0;34m,\u001b[0m\u001b[0;34m\u001b[0m\u001b[0;34m\u001b[0m\u001b[0m\n\u001b[1;32m   6050\u001b[0m     ) -> Series | None:\n\u001b[0;32m-> 6051\u001b[0;31m         return super().mask(\n\u001b[0m\u001b[1;32m   6052\u001b[0m             \u001b[0mcond\u001b[0m\u001b[0;34m,\u001b[0m\u001b[0;34m\u001b[0m\u001b[0;34m\u001b[0m\u001b[0m\n\u001b[1;32m   6053\u001b[0m             \u001b[0mother\u001b[0m\u001b[0;34m,\u001b[0m\u001b[0;34m\u001b[0m\u001b[0;34m\u001b[0m\u001b[0m\n\u001b[1;32m   6054\u001b[0m             \u001b[0minplace\u001b[0m\u001b[0;34m=\u001b[0m\u001b[0minplace\u001b[0m\u001b[0;34m,\u001b[0m\u001b[0;34m\u001b[0m\u001b[0;34m\u001b[0m\u001b[0m\n",
            "\u001b[0;32m/opt/homebrew/Caskroom/miniconda/base/envs/ds4003/lib/python3.8/site-packages/pandas/core/generic.py\u001b[0m in \u001b[0;36m?\u001b[0;34m(self, cond, other, inplace, axis, level)\u001b[0m\n\u001b[1;32m   9991\u001b[0m         \u001b[0;31m# see gh-21891\u001b[0m\u001b[0;34m\u001b[0m\u001b[0;34m\u001b[0m\u001b[0;34m\u001b[0m\u001b[0m\n\u001b[1;32m   9992\u001b[0m         \u001b[0;32mif\u001b[0m \u001b[0;32mnot\u001b[0m \u001b[0mhasattr\u001b[0m\u001b[0;34m(\u001b[0m\u001b[0mcond\u001b[0m\u001b[0;34m,\u001b[0m \u001b[0;34m\"__invert__\"\u001b[0m\u001b[0;34m)\u001b[0m\u001b[0;34m:\u001b[0m\u001b[0;34m\u001b[0m\u001b[0;34m\u001b[0m\u001b[0m\n\u001b[1;32m   9993\u001b[0m             \u001b[0mcond\u001b[0m \u001b[0;34m=\u001b[0m \u001b[0mnp\u001b[0m\u001b[0;34m.\u001b[0m\u001b[0marray\u001b[0m\u001b[0;34m(\u001b[0m\u001b[0mcond\u001b[0m\u001b[0;34m)\u001b[0m\u001b[0;34m\u001b[0m\u001b[0;34m\u001b[0m\u001b[0m\n\u001b[1;32m   9994\u001b[0m \u001b[0;34m\u001b[0m\u001b[0m\n\u001b[0;32m-> 9995\u001b[0;31m         return self.where(\n\u001b[0m\u001b[1;32m   9996\u001b[0m             \u001b[0;34m~\u001b[0m\u001b[0mcond\u001b[0m\u001b[0;34m,\u001b[0m\u001b[0;34m\u001b[0m\u001b[0;34m\u001b[0m\u001b[0m\n\u001b[1;32m   9997\u001b[0m             \u001b[0mother\u001b[0m\u001b[0;34m=\u001b[0m\u001b[0mother\u001b[0m\u001b[0;34m,\u001b[0m\u001b[0;34m\u001b[0m\u001b[0;34m\u001b[0m\u001b[0m\n\u001b[1;32m   9998\u001b[0m             \u001b[0minplace\u001b[0m\u001b[0;34m=\u001b[0m\u001b[0minplace\u001b[0m\u001b[0;34m,\u001b[0m\u001b[0;34m\u001b[0m\u001b[0;34m\u001b[0m\u001b[0m\n",
            "\u001b[0;32m/opt/homebrew/Caskroom/miniconda/base/envs/ds4003/lib/python3.8/site-packages/pandas/core/series.py\u001b[0m in \u001b[0;36m?\u001b[0;34m(self, cond, other, inplace, axis, level)\u001b[0m\n\u001b[1;32m   5994\u001b[0m         \u001b[0minplace\u001b[0m\u001b[0;34m:\u001b[0m \u001b[0mbool\u001b[0m \u001b[0;34m=\u001b[0m \u001b[0;32mFalse\u001b[0m\u001b[0;34m,\u001b[0m\u001b[0;34m\u001b[0m\u001b[0;34m\u001b[0m\u001b[0m\n\u001b[1;32m   5995\u001b[0m         \u001b[0maxis\u001b[0m\u001b[0;34m:\u001b[0m \u001b[0mAxis\u001b[0m \u001b[0;34m|\u001b[0m \u001b[0;32mNone\u001b[0m \u001b[0;34m=\u001b[0m \u001b[0;32mNone\u001b[0m\u001b[0;34m,\u001b[0m\u001b[0;34m\u001b[0m\u001b[0;34m\u001b[0m\u001b[0m\n\u001b[1;32m   5996\u001b[0m         \u001b[0mlevel\u001b[0m\u001b[0;34m:\u001b[0m \u001b[0mLevel\u001b[0m \u001b[0;34m=\u001b[0m \u001b[0;32mNone\u001b[0m\u001b[0;34m,\u001b[0m\u001b[0;34m\u001b[0m\u001b[0;34m\u001b[0m\u001b[0m\n\u001b[1;32m   5997\u001b[0m     ) -> Series | None:\n\u001b[0;32m-> 5998\u001b[0;31m         return super().where(\n\u001b[0m\u001b[1;32m   5999\u001b[0m             \u001b[0mcond\u001b[0m\u001b[0;34m,\u001b[0m\u001b[0;34m\u001b[0m\u001b[0;34m\u001b[0m\u001b[0m\n\u001b[1;32m   6000\u001b[0m             \u001b[0mother\u001b[0m\u001b[0;34m,\u001b[0m\u001b[0;34m\u001b[0m\u001b[0;34m\u001b[0m\u001b[0m\n\u001b[1;32m   6001\u001b[0m             \u001b[0minplace\u001b[0m\u001b[0;34m=\u001b[0m\u001b[0minplace\u001b[0m\u001b[0;34m,\u001b[0m\u001b[0;34m\u001b[0m\u001b[0;34m\u001b[0m\u001b[0m\n",
            "\u001b[0;32m/opt/homebrew/Caskroom/miniconda/base/envs/ds4003/lib/python3.8/site-packages/pandas/core/generic.py\u001b[0m in \u001b[0;36m?\u001b[0;34m(self, cond, other, inplace, axis, level)\u001b[0m\n\u001b[1;32m   9929\u001b[0m         \u001b[0;36m3\u001b[0m  \u001b[0;32mTrue\u001b[0m  \u001b[0;32mTrue\u001b[0m\u001b[0;34m\u001b[0m\u001b[0;34m\u001b[0m\u001b[0m\n\u001b[1;32m   9930\u001b[0m         \u001b[0;36m4\u001b[0m  \u001b[0;32mTrue\u001b[0m  \u001b[0;32mTrue\u001b[0m\u001b[0;34m\u001b[0m\u001b[0;34m\u001b[0m\u001b[0m\n\u001b[1;32m   9931\u001b[0m         \"\"\"\n\u001b[1;32m   9932\u001b[0m         \u001b[0mother\u001b[0m \u001b[0;34m=\u001b[0m \u001b[0mcommon\u001b[0m\u001b[0;34m.\u001b[0m\u001b[0mapply_if_callable\u001b[0m\u001b[0;34m(\u001b[0m\u001b[0mother\u001b[0m\u001b[0;34m,\u001b[0m \u001b[0mself\u001b[0m\u001b[0;34m)\u001b[0m\u001b[0;34m\u001b[0m\u001b[0;34m\u001b[0m\u001b[0m\n\u001b[0;32m-> 9933\u001b[0;31m         \u001b[0;32mreturn\u001b[0m \u001b[0mself\u001b[0m\u001b[0;34m.\u001b[0m\u001b[0m_where\u001b[0m\u001b[0;34m(\u001b[0m\u001b[0mcond\u001b[0m\u001b[0;34m,\u001b[0m \u001b[0mother\u001b[0m\u001b[0;34m,\u001b[0m \u001b[0minplace\u001b[0m\u001b[0;34m,\u001b[0m \u001b[0maxis\u001b[0m\u001b[0;34m,\u001b[0m \u001b[0mlevel\u001b[0m\u001b[0;34m)\u001b[0m\u001b[0;34m\u001b[0m\u001b[0;34m\u001b[0m\u001b[0m\n\u001b[0m",
            "\u001b[0;32m/opt/homebrew/Caskroom/miniconda/base/envs/ds4003/lib/python3.8/site-packages/pandas/core/generic.py\u001b[0m in \u001b[0;36m?\u001b[0;34m(self, cond, other, inplace, axis, level)\u001b[0m\n\u001b[1;32m   9633\u001b[0m         \u001b[0;32melse\u001b[0m\u001b[0;34m:\u001b[0m\u001b[0;34m\u001b[0m\u001b[0;34m\u001b[0m\u001b[0m\n\u001b[1;32m   9634\u001b[0m             \u001b[0;32mif\u001b[0m \u001b[0;32mnot\u001b[0m \u001b[0mhasattr\u001b[0m\u001b[0;34m(\u001b[0m\u001b[0mcond\u001b[0m\u001b[0;34m,\u001b[0m \u001b[0;34m\"shape\"\u001b[0m\u001b[0;34m)\u001b[0m\u001b[0;34m:\u001b[0m\u001b[0;34m\u001b[0m\u001b[0;34m\u001b[0m\u001b[0m\n\u001b[1;32m   9635\u001b[0m                 \u001b[0mcond\u001b[0m \u001b[0;34m=\u001b[0m \u001b[0mnp\u001b[0m\u001b[0;34m.\u001b[0m\u001b[0masanyarray\u001b[0m\u001b[0;34m(\u001b[0m\u001b[0mcond\u001b[0m\u001b[0;34m)\u001b[0m\u001b[0;34m\u001b[0m\u001b[0;34m\u001b[0m\u001b[0m\n\u001b[1;32m   9636\u001b[0m             \u001b[0;32mif\u001b[0m \u001b[0mcond\u001b[0m\u001b[0;34m.\u001b[0m\u001b[0mshape\u001b[0m \u001b[0;34m!=\u001b[0m \u001b[0mself\u001b[0m\u001b[0;34m.\u001b[0m\u001b[0mshape\u001b[0m\u001b[0;34m:\u001b[0m\u001b[0;34m\u001b[0m\u001b[0;34m\u001b[0m\u001b[0m\n\u001b[0;32m-> 9637\u001b[0;31m                 \u001b[0;32mraise\u001b[0m \u001b[0mValueError\u001b[0m\u001b[0;34m(\u001b[0m\u001b[0;34m\"Array conditional must be same shape as self\"\u001b[0m\u001b[0;34m)\u001b[0m\u001b[0;34m\u001b[0m\u001b[0;34m\u001b[0m\u001b[0m\n\u001b[0m\u001b[1;32m   9638\u001b[0m             \u001b[0mcond\u001b[0m \u001b[0;34m=\u001b[0m \u001b[0mself\u001b[0m\u001b[0;34m.\u001b[0m\u001b[0m_constructor\u001b[0m\u001b[0;34m(\u001b[0m\u001b[0mcond\u001b[0m\u001b[0;34m,\u001b[0m \u001b[0;34m**\u001b[0m\u001b[0mself\u001b[0m\u001b[0;34m.\u001b[0m\u001b[0m_construct_axes_dict\u001b[0m\u001b[0;34m(\u001b[0m\u001b[0;34m)\u001b[0m\u001b[0;34m,\u001b[0m \u001b[0mcopy\u001b[0m\u001b[0;34m=\u001b[0m\u001b[0;32mFalse\u001b[0m\u001b[0;34m)\u001b[0m\u001b[0;34m\u001b[0m\u001b[0;34m\u001b[0m\u001b[0m\n\u001b[1;32m   9639\u001b[0m \u001b[0;34m\u001b[0m\u001b[0m\n\u001b[1;32m   9640\u001b[0m         \u001b[0;31m# make sure we are boolean\u001b[0m\u001b[0;34m\u001b[0m\u001b[0;34m\u001b[0m\u001b[0;34m\u001b[0m\u001b[0m\n",
            "\u001b[0;31mValueError\u001b[0m: Array conditional must be same shape as self"
          ]
        }
      ],
      "source": [
        "length = pd.to_numeric(length,errors='coerce') # Coerce to numeric\n",
        "print(\"Length missing :\", sum(length.isnull())) # check how many NAs there are\n",
        "\n",
        "Length_missing = length.isnull()\n",
        "\n",
        "print(\"Category 4 is cases where the charges were dismissed\",pd.crosstab(Length_missing, type)) # Category 4 is cases where the charges were dismissed\n",
        "\n",
        "Length_missing = length.isnull() # Create a new missing dummy\n",
        "print( pd.crosstab(Length_missing, type))\n",
        "print( np.sum(Length_missing)) # 274 missing, much better\n",
        "\n",
        "ength = length.mask( type == 4, 0) # Replace length with 0 when type ==4\n",
        "length = length.mask( type == 9, np.nan) # Replace length with np.nan when type == 9\n",
        "\n",
        "print(\"length nulls\",sum(length.isnull()))\n",
        "print(\"sentence_type nulls:\", sum(sentence_type.isnull()))\n",
        "\n",
        "length = length.mask( type == 4, 0) # Replace length with 0 when type ==4\n",
        "length = length.mask( type == 9, np.nan) # Replace length with np.nan when type == 9"
      ]
    },
    {
      "cell_type": "markdown",
      "id": "649494cd-cfd6-4f80-992a-9994fc19e1d5",
      "metadata": {
        "id": "649494cd-cfd6-4f80-992a-9994fc19e1d5"
      },
      "source": [
        "**Q3.** Many important datasets contain a race variable, typically limited to a handful of values often including Black, White, Asian, Latino, and Indigenous. This question looks at data gathering efforts on this variable by the U.S. Federal government.\n",
        "\n",
        "1. How did the most recent US Census gather data on race?\n",
        "2. Why do we gather these data? What role do these kinds of data play in politics and society? Why does data quality matter?\n",
        "3. Please provide a constructive criticism of how the Census was conducted: What was done well? What do you think was missing? How should future large scale surveys be adjusted to best reflect the diversity of the population? Could some of the Census' good practices be adopted more widely to gather richer and more useful data?\n",
        "4. How did the Census gather data on sex and gender? Please provide a similar constructive criticism of their practices.\n",
        "5. When it comes to cleaning data, what concerns do you have about protected characteristics like sex, gender, sexual identity, or race? What challenges can you imagine arising when there are missing values? What good or bad practices might people adopt, and why?\n",
        "6. Suppose someone invented an algorithm to impute values for protected characteristics like race, gender, sex, or sexuality. What kinds of concerns would you have?"
      ]
    },
    {
      "cell_type": "code",
      "execution_count": null,
      "id": "e1d4ae67",
      "metadata": {},
      "outputs": [],
      "source": []
    }
  ],
  "metadata": {
    "colab": {
      "provenance": []
    },
    "kernelspec": {
      "display_name": "Python 3 (ipykernel)",
      "language": "python",
      "name": "python3"
    },
    "language_info": {
      "codemirror_mode": {
        "name": "ipython",
        "version": 3
      },
      "file_extension": ".py",
      "mimetype": "text/x-python",
      "name": "python",
      "nbconvert_exporter": "python",
      "pygments_lexer": "ipython3",
      "version": "3.8.18"
    }
  },
  "nbformat": 4,
  "nbformat_minor": 5
}
